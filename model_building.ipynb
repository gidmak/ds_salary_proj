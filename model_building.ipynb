{
 "cells": [
  {
   "cell_type": "code",
   "execution_count": 1,
   "id": "30ad5679",
   "metadata": {
    "ExecuteTime": {
     "end_time": "2023-08-22T14:42:29.674034Z",
     "start_time": "2023-08-22T14:41:59.704650Z"
    }
   },
   "outputs": [],
   "source": [
    "import pandas as pd \n",
    "import numpy as np\n",
    "import matplotlib.pyplot as plt"
   ]
  },
  {
   "cell_type": "code",
   "execution_count": 2,
   "id": "e48e6e65",
   "metadata": {
    "ExecuteTime": {
     "end_time": "2023-08-22T14:42:30.034952Z",
     "start_time": "2023-08-22T14:42:29.696022Z"
    }
   },
   "outputs": [],
   "source": [
    "#Read dataset into a dataframe\n",
    "df = pd.read_csv('eda_data.csv')"
   ]
  },
  {
   "cell_type": "code",
   "execution_count": 3,
   "id": "71b27a26",
   "metadata": {
    "ExecuteTime": {
     "end_time": "2023-08-22T14:42:30.050951Z",
     "start_time": "2023-08-22T14:42:30.040956Z"
    }
   },
   "outputs": [],
   "source": [
    "# TODOs\n",
    "# Choosing the right columns\n",
    "# Get dummy data\n",
    "# Train test split\n",
    "# Multiple linear regression\n",
    "# Lasso regression\n",
    "# Random forest\n",
    "# Tune models GridsearchCV\n",
    "# Test ensembles "
   ]
  },
  {
   "cell_type": "code",
   "execution_count": 4,
   "id": "f8427a8f",
   "metadata": {
    "ExecuteTime": {
     "end_time": "2023-08-22T14:42:30.176604Z",
     "start_time": "2023-08-22T14:42:30.056947Z"
    }
   },
   "outputs": [
    {
     "data": {
      "text/plain": [
       "Index(['Unnamed: 0', 'Job Title', 'Salary Estimate', 'Job Description',\n",
       "       'Rating', 'Company Name', 'Location', 'Headquarters', 'Size', 'Founded',\n",
       "       'Type of ownership', 'Industry', 'Sector', 'Revenue', 'Competitors',\n",
       "       'hourly', 'employer_provided', 'min_salary', 'max_salary', 'avg_salary',\n",
       "       'company_txt', 'job_state', 'same_state', 'age', 'python_yn', 'R_yn',\n",
       "       'spark', 'aws', 'excel', 'job_simp', 'seniority', 'desc_length',\n",
       "       'num_competitor'],\n",
       "      dtype='object')"
      ]
     },
     "execution_count": 4,
     "metadata": {},
     "output_type": "execute_result"
    }
   ],
   "source": [
    "df.columns"
   ]
  },
  {
   "cell_type": "code",
   "execution_count": 5,
   "id": "aa4d8a84",
   "metadata": {
    "ExecuteTime": {
     "end_time": "2023-07-29T16:53:03.332191Z",
     "start_time": "2023-07-29T16:53:03.138801Z"
    }
   },
   "outputs": [],
   "source": [
    "# Choosing the right columns\n",
    "df_model = df[['avg_salary','Rating', 'Size', 'Type of ownership', 'Industry','Sector', 'Revenue','num_competitor','hourly','employer_provided',\n",
    "            'job_state', 'same_state','age','python_yn','spark','aws','excel','job_simp','seniority','desc_length']]"
   ]
  },
  {
   "cell_type": "code",
   "execution_count": 6,
   "id": "3d0ced8e-1ea7-4f2c-a93a-740d9f25af29",
   "metadata": {
    "ExecuteTime": {
     "end_time": "2023-07-29T16:53:03.381160Z",
     "start_time": "2023-07-29T16:53:03.341186Z"
    }
   },
   "outputs": [],
   "source": [
    "# Choosing the right columns\n",
    "df_dum = pd.get_dummies(df_model)"
   ]
  },
  {
   "cell_type": "code",
   "execution_count": 8,
   "id": "e76e3d58-ce12-4c79-91ec-ac1981dc866b",
   "metadata": {
    "ExecuteTime": {
     "end_time": "2023-07-29T16:53:11.667144Z",
     "start_time": "2023-07-29T16:53:11.601185Z"
    }
   },
   "outputs": [
    {
     "data": {
      "text/html": [
       "<div>\n",
       "<style scoped>\n",
       "    .dataframe tbody tr th:only-of-type {\n",
       "        vertical-align: middle;\n",
       "    }\n",
       "\n",
       "    .dataframe tbody tr th {\n",
       "        vertical-align: top;\n",
       "    }\n",
       "\n",
       "    .dataframe thead th {\n",
       "        text-align: right;\n",
       "    }\n",
       "</style>\n",
       "<table border=\"1\" class=\"dataframe\">\n",
       "  <thead>\n",
       "    <tr style=\"text-align: right;\">\n",
       "      <th></th>\n",
       "      <th>avg_salary</th>\n",
       "      <th>Rating</th>\n",
       "      <th>num_competitor</th>\n",
       "      <th>hourly</th>\n",
       "      <th>employer_provided</th>\n",
       "      <th>same_state</th>\n",
       "      <th>age</th>\n",
       "      <th>python_yn</th>\n",
       "      <th>spark</th>\n",
       "      <th>aws</th>\n",
       "      <th>...</th>\n",
       "      <th>job_simp_analytics</th>\n",
       "      <th>job_simp_data engineer</th>\n",
       "      <th>job_simp_data scientist</th>\n",
       "      <th>job_simp_director</th>\n",
       "      <th>job_simp_manager</th>\n",
       "      <th>job_simp_mle</th>\n",
       "      <th>job_simp_na</th>\n",
       "      <th>seniority_junior</th>\n",
       "      <th>seniority_na</th>\n",
       "      <th>seniority_senior</th>\n",
       "    </tr>\n",
       "  </thead>\n",
       "  <tbody>\n",
       "    <tr>\n",
       "      <th>0</th>\n",
       "      <td>72.0</td>\n",
       "      <td>3.8</td>\n",
       "      <td>0</td>\n",
       "      <td>0</td>\n",
       "      <td>0</td>\n",
       "      <td>0</td>\n",
       "      <td>47</td>\n",
       "      <td>1</td>\n",
       "      <td>0</td>\n",
       "      <td>0</td>\n",
       "      <td>...</td>\n",
       "      <td>0</td>\n",
       "      <td>0</td>\n",
       "      <td>1</td>\n",
       "      <td>0</td>\n",
       "      <td>0</td>\n",
       "      <td>0</td>\n",
       "      <td>0</td>\n",
       "      <td>0</td>\n",
       "      <td>1</td>\n",
       "      <td>0</td>\n",
       "    </tr>\n",
       "    <tr>\n",
       "      <th>1</th>\n",
       "      <td>87.5</td>\n",
       "      <td>3.4</td>\n",
       "      <td>0</td>\n",
       "      <td>0</td>\n",
       "      <td>0</td>\n",
       "      <td>0</td>\n",
       "      <td>36</td>\n",
       "      <td>1</td>\n",
       "      <td>0</td>\n",
       "      <td>0</td>\n",
       "      <td>...</td>\n",
       "      <td>0</td>\n",
       "      <td>0</td>\n",
       "      <td>1</td>\n",
       "      <td>0</td>\n",
       "      <td>0</td>\n",
       "      <td>0</td>\n",
       "      <td>0</td>\n",
       "      <td>0</td>\n",
       "      <td>1</td>\n",
       "      <td>0</td>\n",
       "    </tr>\n",
       "    <tr>\n",
       "      <th>2</th>\n",
       "      <td>85.0</td>\n",
       "      <td>4.8</td>\n",
       "      <td>0</td>\n",
       "      <td>0</td>\n",
       "      <td>0</td>\n",
       "      <td>1</td>\n",
       "      <td>10</td>\n",
       "      <td>1</td>\n",
       "      <td>1</td>\n",
       "      <td>0</td>\n",
       "      <td>...</td>\n",
       "      <td>0</td>\n",
       "      <td>0</td>\n",
       "      <td>1</td>\n",
       "      <td>0</td>\n",
       "      <td>0</td>\n",
       "      <td>0</td>\n",
       "      <td>0</td>\n",
       "      <td>0</td>\n",
       "      <td>1</td>\n",
       "      <td>0</td>\n",
       "    </tr>\n",
       "    <tr>\n",
       "      <th>3</th>\n",
       "      <td>76.5</td>\n",
       "      <td>3.8</td>\n",
       "      <td>3</td>\n",
       "      <td>0</td>\n",
       "      <td>0</td>\n",
       "      <td>1</td>\n",
       "      <td>55</td>\n",
       "      <td>1</td>\n",
       "      <td>0</td>\n",
       "      <td>0</td>\n",
       "      <td>...</td>\n",
       "      <td>0</td>\n",
       "      <td>0</td>\n",
       "      <td>1</td>\n",
       "      <td>0</td>\n",
       "      <td>0</td>\n",
       "      <td>0</td>\n",
       "      <td>0</td>\n",
       "      <td>0</td>\n",
       "      <td>1</td>\n",
       "      <td>0</td>\n",
       "    </tr>\n",
       "    <tr>\n",
       "      <th>4</th>\n",
       "      <td>114.5</td>\n",
       "      <td>2.9</td>\n",
       "      <td>3</td>\n",
       "      <td>0</td>\n",
       "      <td>0</td>\n",
       "      <td>1</td>\n",
       "      <td>22</td>\n",
       "      <td>1</td>\n",
       "      <td>0</td>\n",
       "      <td>0</td>\n",
       "      <td>...</td>\n",
       "      <td>0</td>\n",
       "      <td>0</td>\n",
       "      <td>1</td>\n",
       "      <td>0</td>\n",
       "      <td>0</td>\n",
       "      <td>0</td>\n",
       "      <td>0</td>\n",
       "      <td>0</td>\n",
       "      <td>1</td>\n",
       "      <td>0</td>\n",
       "    </tr>\n",
       "  </tbody>\n",
       "</table>\n",
       "<p>5 rows × 179 columns</p>\n",
       "</div>"
      ],
      "text/plain": [
       "   avg_salary  Rating  num_competitor  hourly  employer_provided  same_state  \\\n",
       "0        72.0     3.8               0       0                  0           0   \n",
       "1        87.5     3.4               0       0                  0           0   \n",
       "2        85.0     4.8               0       0                  0           1   \n",
       "3        76.5     3.8               3       0                  0           1   \n",
       "4       114.5     2.9               3       0                  0           1   \n",
       "\n",
       "   age  python_yn  spark  aws  ...  job_simp_analytics  \\\n",
       "0   47          1      0    0  ...                   0   \n",
       "1   36          1      0    0  ...                   0   \n",
       "2   10          1      1    0  ...                   0   \n",
       "3   55          1      0    0  ...                   0   \n",
       "4   22          1      0    0  ...                   0   \n",
       "\n",
       "   job_simp_data engineer  job_simp_data scientist  job_simp_director  \\\n",
       "0                       0                        1                  0   \n",
       "1                       0                        1                  0   \n",
       "2                       0                        1                  0   \n",
       "3                       0                        1                  0   \n",
       "4                       0                        1                  0   \n",
       "\n",
       "   job_simp_manager  job_simp_mle  job_simp_na  seniority_junior  \\\n",
       "0                 0             0            0                 0   \n",
       "1                 0             0            0                 0   \n",
       "2                 0             0            0                 0   \n",
       "3                 0             0            0                 0   \n",
       "4                 0             0            0                 0   \n",
       "\n",
       "   seniority_na  seniority_senior  \n",
       "0             1                 0  \n",
       "1             1                 0  \n",
       "2             1                 0  \n",
       "3             1                 0  \n",
       "4             1                 0  \n",
       "\n",
       "[5 rows x 179 columns]"
      ]
     },
     "execution_count": 8,
     "metadata": {},
     "output_type": "execute_result"
    }
   ],
   "source": [
    "df_dum.head(5)"
   ]
  },
  {
   "cell_type": "code",
   "execution_count": null,
   "id": "17ac1fba-33c9-45c5-8001-0b381378ab8c",
   "metadata": {},
   "outputs": [],
   "source": []
  }
 ],
 "metadata": {
  "kernelspec": {
   "display_name": "Python 3 (ipykernel)",
   "language": "python",
   "name": "python3"
  },
  "language_info": {
   "codemirror_mode": {
    "name": "ipython",
    "version": 3
   },
   "file_extension": ".py",
   "mimetype": "text/x-python",
   "name": "python",
   "nbconvert_exporter": "python",
   "pygments_lexer": "ipython3",
   "version": "3.9.13"
  }
 },
 "nbformat": 4,
 "nbformat_minor": 5
}
