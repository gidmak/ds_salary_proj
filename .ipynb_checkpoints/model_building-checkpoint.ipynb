{
 "cells": [
  {
   "cell_type": "code",
   "execution_count": 1,
   "id": "30ad5679",
   "metadata": {
    "ExecuteTime": {
     "end_time": "2023-07-29T15:42:40.266990Z",
     "start_time": "2023-07-29T15:42:36.721280Z"
    }
   },
   "outputs": [],
   "source": [
    "import pandas as pd \n",
    "import numpy as np\n",
    "import matplotlib.pyplot as plt"
   ]
  },
  {
   "cell_type": "code",
   "execution_count": 2,
   "id": "e48e6e65",
   "metadata": {
    "ExecuteTime": {
     "end_time": "2023-07-29T15:42:40.391925Z",
     "start_time": "2023-07-29T15:42:40.273984Z"
    }
   },
   "outputs": [],
   "source": [
    "#Read dataset into a dataframe\n",
    "df = pd.read_csv('eda_data.csv')"
   ]
  },
  {
   "cell_type": "code",
   "execution_count": 3,
   "id": "71b27a26",
   "metadata": {
    "ExecuteTime": {
     "end_time": "2023-07-29T15:42:40.501764Z",
     "start_time": "2023-07-29T15:42:40.398926Z"
    }
   },
   "outputs": [],
   "source": [
    "# TODOs\n",
    "# Choosing the right columns\n",
    "# Get dummy data\n",
    "# Train test split\n",
    "# Multiple linear regression\n",
    "# Lasso regression\n",
    "# Random forest\n",
    "# Tune models GridsearchCV\n",
    "# Test ensembles "
   ]
  },
  {
   "cell_type": "code",
   "execution_count": null,
   "id": "63ea907d",
   "metadata": {
    "ExecuteTime": {
     "end_time": "2023-07-29T15:42:55.810640Z",
     "start_time": "2023-07-29T15:42:40.524755Z"
    }
   },
   "outputs": [],
   "source": []
  },
  {
   "cell_type": "code",
   "execution_count": 5,
   "id": "f8427a8f",
   "metadata": {
    "ExecuteTime": {
     "end_time": "2023-07-29T15:42:55.892587Z",
     "start_time": "2023-07-29T15:42:55.848615Z"
    }
   },
   "outputs": [
    {
     "data": {
      "text/plain": [
       "Index(['Unnamed: 0', 'Job Title', 'Salary Estimate', 'Job Description',\n",
       "       'Rating', 'Company Name', 'Location', 'Headquarters', 'Size', 'Founded',\n",
       "       'Type of ownership', 'Industry', 'Sector', 'Revenue', 'Competitors',\n",
       "       'hourly', 'employer_provided', 'min_salary', 'max_salary', 'avg_salary',\n",
       "       'company_txt', 'job_state', 'same_state', 'age', 'python_yn', 'R_yn',\n",
       "       'spark', 'aws', 'excel', 'job_simp', 'seniority', 'desc_length',\n",
       "       'num_competitor'],\n",
       "      dtype='object')"
      ]
     },
     "execution_count": 5,
     "metadata": {},
     "output_type": "execute_result"
    }
   ],
   "source": [
    "df.columns"
   ]
  },
  {
   "cell_type": "code",
   "execution_count": 6,
   "id": "aa4d8a84",
   "metadata": {
    "ExecuteTime": {
     "end_time": "2023-07-29T15:42:56.261826Z",
     "start_time": "2023-07-29T15:42:55.910577Z"
    }
   },
   "outputs": [],
   "source": [
    "# Choosing the right columns\n",
    "df_model = [['Rating', 'Size', 'Type of ownership', 'Industry','Sector',\n",
    "             'Revenue','num_competitor','hourly','employer_provided',]]"
   ]
  }
 ],
 "metadata": {
  "kernelspec": {
   "display_name": "Python 3 (ipykernel)",
   "language": "python",
   "name": "python3"
  },
  "language_info": {
   "codemirror_mode": {
    "name": "ipython",
    "version": 3
   },
   "file_extension": ".py",
   "mimetype": "text/x-python",
   "name": "python",
   "nbconvert_exporter": "python",
   "pygments_lexer": "ipython3",
   "version": "3.9.13"
  }
 },
 "nbformat": 4,
 "nbformat_minor": 5
}
