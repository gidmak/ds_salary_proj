{
 "cells": [
  {
   "cell_type": "code",
   "execution_count": 11,
   "id": "9e1b15b0",
   "metadata": {
    "ExecuteTime": {
     "end_time": "2023-07-24T11:02:12.806351Z",
     "start_time": "2023-07-24T11:02:12.782369Z"
    }
   },
   "outputs": [],
   "source": [
    "import pandas as pd \n",
    "\n",
    "df = pd.read_csv('jobs.csv')\n",
    "\n",
    "#TODOs\n",
    "#salary parsing\n",
    "#company name text only\n",
    "#state field\n",
    "#age of company\n",
    "#parsing job description [python, etc]\n",
    "\n",
    "df = df[df['Salary Estimate'] != '-1']"
   ]
  },
  {
   "cell_type": "code",
   "execution_count": 12,
   "id": "efb92dad",
   "metadata": {
    "ExecuteTime": {
     "end_time": "2023-07-24T11:02:18.077208Z",
     "start_time": "2023-07-24T11:02:18.063217Z"
    }
   },
   "outputs": [
    {
     "data": {
      "text/plain": [
       "(216, 12)"
      ]
     },
     "execution_count": 12,
     "metadata": {},
     "output_type": "execute_result"
    }
   ],
   "source": [
    "df.shape"
   ]
  },
  {
   "cell_type": "code",
   "execution_count": null,
   "id": "d3e77171",
   "metadata": {},
   "outputs": [],
   "source": []
  }
 ],
 "metadata": {
  "kernelspec": {
   "display_name": "Python 3 (ipykernel)",
   "language": "python",
   "name": "python3"
  },
  "language_info": {
   "codemirror_mode": {
    "name": "ipython",
    "version": 3
   },
   "file_extension": ".py",
   "mimetype": "text/x-python",
   "name": "python",
   "nbconvert_exporter": "python",
   "pygments_lexer": "ipython3",
   "version": "3.9.13"
  }
 },
 "nbformat": 4,
 "nbformat_minor": 5
}
