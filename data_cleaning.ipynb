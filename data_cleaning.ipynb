{
 "cells": [
  {
   "cell_type": "code",
   "execution_count": 58,
   "id": "9e1b15b0",
   "metadata": {
    "ExecuteTime": {
     "end_time": "2023-07-24T16:42:37.616692Z",
     "start_time": "2023-07-24T16:42:37.583715Z"
    }
   },
   "outputs": [],
   "source": [
    "import pandas as pd \n",
    "\n",
    "df = pd.read_csv('jobs.csv')\n",
    "\n",
    "#TODOs\n",
    "#salary parsing\n",
    "#company name text only\n",
    "#state field\n",
    "#age of company\n",
    "#parsing job description [python, etc]"
   ]
  },
  {
   "cell_type": "code",
   "execution_count": 59,
   "id": "15ab5047",
   "metadata": {
    "ExecuteTime": {
     "end_time": "2023-07-24T16:42:39.428871Z",
     "start_time": "2023-07-24T16:42:39.414880Z"
    }
   },
   "outputs": [],
   "source": [
    "#Select only rows where 'Salary Estimate is not equal to '\n",
    "df = df[df['Salary Estimate'] != '-1']"
   ]
  },
  {
   "cell_type": "code",
   "execution_count": 60,
   "id": "582c2f88",
   "metadata": {
    "ExecuteTime": {
     "end_time": "2023-07-24T16:42:40.382801Z",
     "start_time": "2023-07-24T16:42:40.361815Z"
    }
   },
   "outputs": [],
   "source": [
    "#Split Salary Estimate and get only the amount\n",
    "salary = df[\"Salary Estimate\"].apply(lambda x: x.split('/')[0])"
   ]
  },
  {
   "cell_type": "code",
   "execution_count": 61,
   "id": "0c115682",
   "metadata": {
    "ExecuteTime": {
     "end_time": "2023-07-24T16:42:41.493858Z",
     "start_time": "2023-07-24T16:42:41.476870Z"
    }
   },
   "outputs": [],
   "source": [
    "#Get rid of the '$' and ',' sign\n",
    "salary = salary.apply(lambda x: x.replace('$', '').replace(',',''))\n"
   ]
  },
  {
   "cell_type": "code",
   "execution_count": 62,
   "id": "7e4e0c08",
   "metadata": {
    "ExecuteTime": {
     "end_time": "2023-07-24T16:42:42.467593Z",
     "start_time": "2023-07-24T16:42:42.449604Z"
    }
   },
   "outputs": [],
   "source": [
    "#Convert salary column to integer and add it to df columns\n",
    "df['salary'] = salary.apply(lambda x: x).astype(float)"
   ]
  },
  {
   "cell_type": "code",
   "execution_count": 63,
   "id": "6655426e",
   "metadata": {
    "ExecuteTime": {
     "end_time": "2023-07-24T16:42:46.983134Z",
     "start_time": "2023-07-24T16:42:46.957151Z"
    }
   },
   "outputs": [],
   "source": [
    "#Company name - text only\n",
    "df['company_text'] = df.apply(lambda x: x['Company Name'] if x['Rating'] < 0 else x['Company Name'][:-5], axis =1)"
   ]
  },
  {
   "cell_type": "code",
   "execution_count": 64,
   "id": "2a910b60",
   "metadata": {
    "ExecuteTime": {
     "end_time": "2023-07-24T16:42:47.876228Z",
     "start_time": "2023-07-24T16:42:47.854242Z"
    }
   },
   "outputs": [],
   "source": [
    "#Get job state\n",
    "df[\"job_state\"] = df['Location'].apply(lambda x: x.split(',')[1] if (isinstance(x, str) and ',' in x) else x)"
   ]
  },
  {
   "cell_type": "code",
   "execution_count": 65,
   "id": "bb009b5e",
   "metadata": {
    "ExecuteTime": {
     "end_time": "2023-07-24T16:42:50.406864Z",
     "start_time": "2023-07-24T16:42:50.400865Z"
    }
   },
   "outputs": [],
   "source": [
    "#Check if job is at headquarterabss\n",
    "#df['same_state'] = df.apply(lambda x: 1 if x.Location == x.Headquarters else 0, axis=1)"
   ]
  },
  {
   "cell_type": "code",
   "execution_count": 73,
   "id": "808d527d",
   "metadata": {
    "ExecuteTime": {
     "end_time": "2023-07-24T16:46:56.825344Z",
     "start_time": "2023-07-24T16:46:56.809356Z"
    }
   },
   "outputs": [],
   "source": [
    "#Age of company\n",
    "df['age'] = df.Founded.apply(lambda x: x if x <1 else 2023 - x)"
   ]
  },
  {
   "cell_type": "code",
   "execution_count": 79,
   "id": "3121f676",
   "metadata": {
    "ExecuteTime": {
     "end_time": "2023-07-24T16:49:06.874781Z",
     "start_time": "2023-07-24T16:49:06.862785Z"
    }
   },
   "outputs": [],
   "source": [
    "#Drop the column named 'Unnamed:0' \n",
    "df_out = df.drop(['Unnamed: 0'], axis=1)"
   ]
  },
  {
   "cell_type": "code",
   "execution_count": 81,
   "id": "efb92dad",
   "metadata": {
    "ExecuteTime": {
     "end_time": "2023-07-24T16:50:58.518716Z",
     "start_time": "2023-07-24T16:50:58.490733Z"
    }
   },
   "outputs": [],
   "source": [
    "#Convert df_out to .csv\n",
    "df_out.to_csv(\"cleaned_jobs.csv\", index= False)"
   ]
  }
 ],
 "metadata": {
  "kernelspec": {
   "display_name": "Python 3 (ipykernel)",
   "language": "python",
   "name": "python3"
  },
  "language_info": {
   "codemirror_mode": {
    "name": "ipython",
    "version": 3
   },
   "file_extension": ".py",
   "mimetype": "text/x-python",
   "name": "python",
   "nbconvert_exporter": "python",
   "pygments_lexer": "ipython3",
   "version": "3.9.13"
  }
 },
 "nbformat": 4,
 "nbformat_minor": 5
}
